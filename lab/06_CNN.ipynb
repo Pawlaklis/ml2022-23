{
 "cells": [
  {
   "cell_type": "markdown",
   "metadata": {},
   "source": [
    "# Sieci konwolucyjne\n",
    "\n",
    "Zadanie dla Państwa na te ćwiczenia to implementacja funkcji konwolucji oraz max pooling dla obrazów."
   ]
  },
  {
   "cell_type": "code",
   "execution_count": 311,
   "metadata": {},
   "outputs": [],
   "source": [
    "# ploting\n",
    "%matplotlib inline\n",
    "# imports\n",
    "import torch\n",
    "import numpy as np\n",
    "import matplotlib.pyplot as plt\n",
    "from itertools import product"
   ]
  },
  {
   "cell_type": "code",
   "execution_count": 312,
   "outputs": [
    {
     "data": {
      "text/plain": "<matplotlib.image.AxesImage at 0x167824390>"
     },
     "execution_count": 312,
     "metadata": {},
     "output_type": "execute_result"
    },
    {
     "data": {
      "text/plain": "<Figure size 640x480 with 1 Axes>",
      "image/png": "[encoded data removed]"
     },
     "metadata": {},
     "output_type": "display_data"
    }
   ],
   "source": [
    "# data loading\n",
    "cifar_sample = np.load('resources/cifar_sample.npy')\n",
    "# get a first random image\n",
    "np_image = cifar_sample[0]\n",
    "# this should plot a blurry frog\n",
    "plt.imshow(np_image.transpose(1,2,0))"
   ],
   "metadata": {
    "collapsed": false
   }
  },
  {
   "cell_type": "markdown",
   "source": [
    "### Wzory na rozmiary\n",
    "**Pytanie 1**: Jaki będzie rozmiar obrazka na wyjściu konwolucji/poolingu przy parametrach poniżej.  \n",
    "**Uwaga**: zarówno we wzorach jak i w kodzie używana jest torchowa konwencja *channel first*.\n",
    "\n",
    "Stride: $ \\hspace{95px} S $  \n",
    "Padding: $ \\hspace{80px} P $  \n",
    "Obrazek wejściowy: $ \\hspace{12px} C_i \\times H_i \\times W_i$  \n",
    "Filtry: $ \\hspace{100px} K \\times C_f \\times F \\times F $  \n",
    "\n",
    "Gdzie: $C_i$ to liczba kanału obrazu wejściowego, $H_i, W_i$ to odpowiednio wysokość i szerokość obrazu wejściowego. $K$ to liczba filtrów, $C_f$ liczba kanałów w każdym filtrze, $F$ to zarówno wysokość jak i szerokość filtra (rozważamy tylko filtry kwadratowe).\n",
    "\n",
    "Obrazek wyjściowy: $ \\hspace{15px} C_o \\times H_o \\times W_o $  \n",
    "\n",
    "\n",
    "$ \\hspace{140px} C_o = \\text{???} $  \n",
    "\n",
    "$ \\hspace{140px} H_o = \\text{???} $  \n",
    "\n",
    "$ \\hspace{140px} W_o = \\text{???} $  \n",
    "\n",
    "**Pytanie 2**: Ile wag (floatów) ma taka warstwa konwolucyja?   \n",
    "\n",
    "\n",
    "### Wizualna pomoc do konwolucji\n",
    "[Źródło](http://cs231n.github.io/convolutional-networks/)\n",
    "\n",
    "<img src=\"https://raw.githubusercontent.com/gmum/ml2022-23/main/lab/resources/cnn.gif\"></img>\n",
    "\n",
    "### Zadanie 1:  Konwolucja (5 pkt.)\n",
    "Zadaniem jest zaimplementowanie funkcji konwolucji i poolingu dla obrazka 2D. Implementacja nie musi być optymalna pod względem złożoności czasowej (tzn. można/zaleca się używać pętli). \n",
    "\n",
    "Warunkiem zaliczenia zadania jest przejście komórek testowych dla konwolucji i poolingu. W razie problemów polecam zacząć od poolingu, który jest podobny do konwolucji, ale mniej skomplikowany."
   ],
   "metadata": {
    "collapsed": false
   }
  },
  {
   "cell_type": "code",
   "execution_count": 313,
   "metadata": {},
   "outputs": [],
   "source": [
    "import torch.nn.functional as F\n",
    "\n",
    "def convolution(image: torch.tensor,\n",
    "                filters: torch.tensor, \n",
    "                bias: torch.tensor, \n",
    "                stride: int = 1, \n",
    "                padding: int = 1):\n",
    "    \"\"\"\n",
    "    :param image: torch.Tensor\n",
    "        Input image of shape (C, H, W)\n",
    "    :param filters: torch.Tensor\n",
    "        Filters to use in convolution of shape (K, C, F, F)\n",
    "    :param bias: torch.Tensor\n",
    "        Bias vector of shape (K,)\n",
    "    :param stride: int\n",
    "        Stride to use in convolution\n",
    "    :param padding: int\n",
    "       Zero-padding to add on all sides of the image\n",
    "    \"\"\"\n",
    "    # get image dimensions\n",
    "    img_channels, img_height, img_width = image.shape\n",
    "    n_filters, filter_channels, filter_size, filter_size = filters.shape\n",
    "    # calculate the dimensions of the output image\n",
    "    out_height = int((img_height - filter_size + 2 * padding )/stride) + 1\n",
    "    out_width = int((img_width - filter_size + 2 * padding )/stride) + 1\n",
    "    out_channels = n_filters\n",
    "\n",
    "    data_padded = F.pad(input = image, pad=(padding, padding, padding, padding), mode='constant', value=0)\n",
    "\n",
    "    output = torch.zeros((out_channels, out_height, out_width))\n",
    "\n",
    "    for f in range(n_filters):\n",
    "        for h in range(out_height):\n",
    "          for w in range(out_width):\n",
    "            sum = 0\n",
    "            w_start = w * stride\n",
    "            w_end = w_start + filter_size\n",
    "            h_start = h * stride\n",
    "            h_end = h_start + filter_size\n",
    "\n",
    "            for c in range(img_channels):\n",
    "                window = data_padded[c, h_start:h_end, w_start:w_end]\n",
    "                t1 = torch.mul(window, filters[f,c,:,:])\n",
    "                t2 = torch.sum(t1)\n",
    "                sum += t2\n",
    "\n",
    "            output[f,h,w] = sum + bias[f]\n",
    "\n",
    "    return output\n"
   ]
  },
  {
   "cell_type": "code",
   "execution_count": 314,
   "metadata": {},
   "outputs": [],
   "source": [
    "# Convolution Test\n",
    "\n",
    "# cast the frog to tensor\n",
    "image = torch.tensor(np_image)\n",
    "# preapre parameters for testing\n",
    "paddings = [0, 1, 2, 3]\n",
    "strides = [1, 2, 3, 4]\n",
    "filters = [(torch.randn((2,3,3,3)), torch.randn((2))),\n",
    "           (torch.randn((2,3,5,5)), torch.randn((2))),\n",
    "           (torch.randn((5,3,1,1)), torch.randn((5)))]\n",
    "\n",
    "# test all combinations\n",
    "for (filt, bias), stride, padding in product(filters, strides, paddings):\n",
    "    # your convolution\n",
    "    out = convolution(image, filt, bias, stride=stride, padding=padding)\n",
    "    # PyTorch equivalent\n",
    "    out_torch = torch.conv2d(input=image.unsqueeze(0), weight=filt, bias=bias, padding=padding, stride=stride)\n",
    "    # asserts\n",
    "    assert out_torch.squeeze().shape == out.shape\n",
    "    assert torch.allclose(out, out_torch.squeeze(), atol=1e-5, rtol=1e-5)"
   ]
  },
  {
   "cell_type": "markdown",
   "metadata": {},
   "source": [
    "### Zadanie 2. Max Pooling (2 pkt.)\n",
    "Operacja *max pooling* jest analogiczna do zwykłej konwolucji, lecz zamiast operacji mnożenia z zadanym filtrem na każdym fragmencie wejścia wykonywana jest funkcja *max*."
   ]
  },
  {
   "cell_type": "code",
   "execution_count": 315,
   "metadata": {},
   "outputs": [],
   "source": [
    "def max_pooling(image: torch.tensor, \n",
    "                kernel_size: int, \n",
    "                stride: int = 1, \n",
    "                padding: int = 1):\n",
    "    \"\"\"\n",
    "    :param image: torch.Tensor \n",
    "        Input image of shape (C, H, W)\n",
    "    :param kernel_size: int \n",
    "        Size of the square pooling kernel\n",
    "    :param stride: int\n",
    "        Stride to use in pooling\n",
    "    :param padding: int\n",
    "       Zero-padding to add on all sides of the image \n",
    "    \"\"\"\n",
    "    # get image dimensions\n",
    "    img_channels, img_height, img_width = image.shape\n",
    "    # calculate the dimensions of the output image\n",
    "    out_height = int((img_height - kernel_size + 2 * padding )/stride) + 1\n",
    "    out_width = int((img_width - kernel_size + 2 * padding )/stride) + 1\n",
    "    out_channels = img_channels\n",
    "\n",
    "    # your code here\n",
    "\n",
    "    data_padded = F.pad(input = image, pad=(padding, padding, padding, padding), mode='constant', value=0)\n",
    "\n",
    "    output = torch.zeros((out_channels, out_height, out_width ))\n",
    "\n",
    "    for c in range(out_channels):\n",
    "        for h in range(out_height):\n",
    "            for w in range(out_width):\n",
    "                w_start = w * stride\n",
    "                w_end = w_start + kernel_size\n",
    "                h_start = h * stride\n",
    "                h_end = h_start + kernel_size\n",
    "                output[c, h, w] = torch.max(data_padded[c, h_start:h_end, w_start:w_end])\n",
    "    return output"
   ]
  },
  {
   "cell_type": "code",
   "execution_count": 316,
   "metadata": {},
   "outputs": [],
   "source": [
    "# Max Pooling Test\n",
    "from itertools import product\n",
    "\n",
    "# cast the frog to tensor\n",
    "image = torch.tensor(np_image)\n",
    "# preapre parameters for testing\n",
    "kernel_sizes = [2, 3, 4]\n",
    "paddings = [0, 1]\n",
    "strides = [1, 2, 3, 4]\n",
    "\n",
    "# test all combinations\n",
    "for kernel_size, stride, padding in product(kernel_sizes, strides, paddings):\n",
    "    # your pooling\n",
    "    out = max_pooling(image, kernel_size=kernel_size, stride=stride, padding=padding)\n",
    "    # PyTorch equivalent\n",
    "    out_torch = torch.nn.functional.max_pool2d(input=image.unsqueeze(0), kernel_size=kernel_size, padding=padding, stride=stride)\n",
    "    # asserts\n",
    "    assert out_torch.squeeze().shape == out.shape\n",
    "    assert torch.allclose(out, out_torch.squeeze(), atol=1e-5, rtol=1e-5)"
   ]
  },
  {
   "cell_type": "code",
   "execution_count": 316,
   "outputs": [],
   "source": [],
   "metadata": {
    "collapsed": false
   }
  }
 ],
 "metadata": {
  "kernelspec": {
   "display_name": "Python 3",
   "language": "python",
   "name": "python3"
  },
  "language_info": {
   "codemirror_mode": {
    "name": "ipython",
    "version": 3
   },
   "file_extension": ".py",
   "mimetype": "text/x-python",
   "name": "python",
   "nbconvert_exporter": "python",
   "pygments_lexer": "ipython3",
   "version": "3.8.5"
  }
 },
 "nbformat": 4,
 "nbformat_minor": 4
}
