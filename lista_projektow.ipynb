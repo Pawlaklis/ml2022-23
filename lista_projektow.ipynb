{
 "cells": [
  {
   "cell_type": "markdown",
   "metadata": {},
   "source": [
    "# Lista Przykładowych Projektów\n",
    "\n",
    "\n",
    "## Najważniejsze informacje i terminy\n",
    "* W swoim repozytorium do kursu proszę stworzyć folder `project`, w którym będziecie Państwo wrzucać pliki związane z projektem.\n",
    "* Projekty zaliczeniowy należy wybrać **do końca października**. Temat projektu należy wpisać do pliku `project/README.md`. Na początku listopada prowadzący zweryfikują wybrane przez Państwa tematy.\n",
    "* Zachęcamy wykorzystać ten projekt jako pretekst do wspołpracy naukowej z członkami grupy GMUM.\n",
    "* Projekt może być wykonywany w ramach przedmiotu Projekt Indywidualny obowiązkowego dla studentów 1. roku drugiego stopnia kierunku Informatyka.\n",
    "## Wybór tematu projektu\n",
    "\n",
    "Jako projekt zaliczeniowy można oddawać:\n",
    "* Dowolny projekt naukowy robiony we współpracy z GMUM-em albo inną jednostką naukową zajmującą się uczeniem maszynowym. Lista projektów GMUM-u znajduje się [tutaj](https://gmum.net/projects). Jeżeli nie znajdą Państwo interesującego tematu na liście, można [tutaj](https://gmum.net/team.html) sprawdzić zainteresowania naukowe członków GMUM-u i skontaktować się mailowo z osobą, która zajmuje się interesującym Państwa tematem.\n",
    "* Odtworzenie (części) wyników dowolnie wybranej pracy naukowej z zakresu uczenia maszynowego. Niestety odtworzenie wyników w pełni często wymaga bardzo dużych zasobów obliczeniowych, dlatego też dobrym projektem będzie zastosowanie tej samej metody na prostszej architekturze/prostszym datasecie). Tutaj znajdą Państwo [przydatne materiały](https://paperswithcode.com/rc2020) o reprodukowalności prac naukowych.\n",
    "* Dowolny projekt wykorzystujący metody uczenia maszynowego. W szczególności projekty mogą dotyczyć analizy danych czy wykorzystywanie modeli uczenia maszynowego na produkcji (np. wykorzystanie wytrenowanej sieci w aplikacji mobilnej). **Ta opcja wymaga konsultacji z prowadzącym w celu potwierdzenia że projekt jest wystarczająco związany z tematyką uczenia maszynowego**.\n",
    "* Projekt z poniższej listy."
   ]
  },
  {
   "cell_type": "markdown",
   "metadata": {},
   "source": [
    "## Lista przykładowych projektów\n",
    "Poniższa lista zawiera kilka proponowanych tematów projektu. Służy ona nie tylko ułatwieniu Państwu wyboru, ale także zaprezentowaniu, jakiego rodzaju projekty można realizować w ramach przedmiotu.\n",
    "\n",
    "### Research:\n",
    "* Analiza problemu [*catastrophic forgetting*](https://arxiv.org/abs/1612.00796) dla prostych sieci konwolucyjnych i *fully connected*. \n",
    "* Porównanie różnych [metod pruningu](https://jacobgil.github.io/deeplearning/pruning-deep-learning) dla wybranego zbioru danych.\n",
    "* Zaprezentowanie efektu [podwójnego spadku (double descent)](https://openai.com/blog/deep-double-descent/) na wybranej architekturze sieci neuronowej.\n",
    "* Odtworzenie wyników pracy [Critical Learning Periods in Deep Neural Networks](https://arxiv.org/abs/1711.08856). Chcemy pokazać, że sieć, która przez kilka pierwszych epok uczyła się na rozmazanych zdjęciach nie będzie w stanie osiągnąć dobrych efektów, nawet jeśli później będziemy pokazywać jej wyłącznie \"ostre zdjęcia\".\n",
    "* Odtworzenie wyników pracy [Lottery Ticket Hypothesis](https://arxiv.org/abs/1803.03635).\n",
    "\n",
    "\n",
    "### Obraz:\n",
    "* Stworzenie własnego “specjalistycznego” (bardzo ścisłe klasy do klasyfikacji, np. podobne gatunki ptaków) datasetu, prawdopodobnie scrapowanego z internetu. Fine-tuning jednego z wariantów VGG.\n",
    "* Porównanie modeli generatywnych GAN, VAE i WAE na datasecie [SVHN](http://ufldl.stanford.edu/housenumbers/) lub podobnych.\n",
    "* Algorytm do automatycznego wykrywania i wyceniania kart do gry Magic: The Gathering. Dla dwóch osób: z aplikacją na telefon.\n",
    "* Zaprezentowanie problemu [przykładów adwersarialnych](https://openai.com/blog/adversarial-example-research/) poprzez implementację jednej metody ataku adwersarialnego i jednej metody obrony adwersarialnej.\n",
    "* Zaimplementowanie wybranej metody do badania interpretowalności sieci neuronowych (np. \n",
    "\n",
    "### Tekst:\n",
    "* Model generatywny tekstu dla języka polskiego używający embeddingów [flair](https://github.com/zalandoresearch/flair/blob/master/resources/docs/embeddings/FLAIR_EMBEDDINGS.md).\n",
    "* Porównanie (prostych) modeli generatywnych uczonych na różnych polskich pisarzach, np. Mickiewicz, a Słowacki. Można skorzystać z danych dostępnych w serwisie [wolnelektury.pl](https://wolnelektury.pl/).\n",
    "* Wykorzystanie pretrenowanego modelu do generowania tekstu i następnie zaadaptowanie go do konkretnej dziedziny.\n",
    "\n",
    "### Dźwięk:\n",
    "* Prosty model generatywny bazujący na (części) datasetu [MAESTRO](https://magenta.tensorflow.org/datasets/maestro).\n",
    "* Prosty “embedding” dla piosenek, dzięki któremu łatwo będzie wyszukiwać podobnie brzmiące utwory muzyczne.\n",
    "\n",
    "### Gry:\n",
    "* Wytrenowanie wybranego “trochę głębszego” modelu na wybranych 1-2 grach Atari.\n",
    "* Prosty algorytm z rodziny self-play dla gry typu Gomoku.\n",
    "* Odtworzenie modelu [DQN](https://pytorch.org/tutorials/intermediate/reinforcement_q_learning.html) i przetestowanie go na grach Atari.\n",
    "* Wykorzystanie dowolnej metody z rodziny [policy gradient](https://spinningup.openai.com/en/latest/algorithms/vpg.html) do rozwiązania [dowolnego środowiska Mujoco](https://gym.openai.com/envs/#mujoco).\n",
    "* Stworzenie swojego własnego środowiska reinforcement learningu (np. Candy Crush, 2048, saper, dowolna inna gra) zgodnie z [API Gym](https://github.com/openai/gym/blob/master/docs/creating-environments.md). Można również stworzyć własne środowisko robotyczne za pomocą Mujoco. Na tak przygotowanym środowisku należy przetestować kilka gotowych algorytmów do RL-a (można je wziąć np. [stąd](https://github.com/hill-a/stable-baselines).\n",
    "\n",
    "### Inne:\n",
    "* Stworzenie własnego zbioru danych do wybranego zadania uczenia maszynowego: scrapowanie danych z internetu, czyszczenie danych, zidentyfikowanie potencjalnych problemów, przetestowanie architektur, porównanie z innymi zbiorami danych z tej samej dziedziny.\n",
    "\n",
    "### Zastosowania Praktyczne:\n",
    "* Webserwis używający CycleGAN’a do automatycznej ingerencji w zdjęcia (np. “rozweselanie”).\n",
    "* Przeniesienie gotowego modelu do Object Detection na smartfona.\n"
   ]
  }
 ],
 "metadata": {
  "kernelspec": {
   "display_name": "Python 3",
   "language": "python",
   "name": "python3"
  },
  "language_info": {
   "codemirror_mode": {
    "name": "ipython",
    "version": 3
   },
   "file_extension": ".py",
   "mimetype": "text/x-python",
   "name": "python",
   "nbconvert_exporter": "python",
   "pygments_lexer": "ipython3",
   "version": "3.7.9"
  }
 },
 "nbformat": 4,
 "nbformat_minor": 2
}
